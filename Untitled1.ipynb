{
  "nbformat": 4,
  "nbformat_minor": 0,
  "metadata": {
    "colab": {
      "provenance": []
    },
    "kernelspec": {
      "name": "python3",
      "display_name": "Python 3"
    },
    "language_info": {
      "name": "python"
    }
  },
  "cells": [
    {
      "cell_type": "code",
      "execution_count": 2,
      "metadata": {
        "colab": {
          "base_uri": "https://localhost:8080/"
        },
        "id": "ZePo6ysM9ix9",
        "outputId": "635529db-9d7f-47d1-b739-466c243b05f4"
      },
      "outputs": [
        {
          "output_type": "stream",
          "name": "stdout",
          "text": [
            "lista [0] = 101\n",
            "lista [1] = 102\n",
            "lista [2] = 103\n",
            "lista [3] = 104\n",
            "lista [4] = 105\n",
            "lista completa: [101, 102, 103, 104, 105]\n"
          ]
        }
      ],
      "source": [
        "lista = [101,102,103,104,105]\n",
        "print(f'lista [0] = {lista[0]}')\n",
        "print(f'lista [1] = {lista[1]}')\n",
        "print(f'lista [2] = {lista[2]}')\n",
        "print(f'lista [3] = {lista[3]}')\n",
        "print(f'lista [4] = {lista[4]}')\n",
        "print(f'lista completa: {lista}')\n",
        "\n"
      ]
    },
    {
      "cell_type": "markdown",
      "source": [
        "# Nova seção"
      ],
      "metadata": {
        "id": "k-zj0pwsAl_p"
      }
    },
    {
      "cell_type": "code",
      "source": [
        "from google.colab import drive\n",
        "drive.mount('/content/drive')"
      ],
      "metadata": {
        "id": "uNo9r5_vAxW0"
      },
      "execution_count": null,
      "outputs": []
    }
  ]
}